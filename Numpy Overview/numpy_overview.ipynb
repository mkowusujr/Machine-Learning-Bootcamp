{
 "cells": [
  {
   "cell_type": "markdown",
   "metadata": {},
   "source": [
    "# NumPy Overview\n",
    "NumPy or numpy is a Linear Algebra Library for Python, a lot of the libraries in the PyData Ecosystem rely on NumPy as one of their main building blocks.\n",
    "\n",
    "NumPy arrarys come in flavors 1D vectors or 2D matrices.\n",
    "\n",
    "## NumPy Arrays\n",
    "### Creating Arrays\n",
    "#### Via Type Casting"
   ]
  },
  {
   "cell_type": "code",
   "execution_count": null,
   "metadata": {},
   "outputs": [],
   "source": [
    "import numpy as np"
   ]
  },
  {
   "cell_type": "code",
   "execution_count": null,
   "metadata": {},
   "outputs": [],
   "source": [
    "my_list = [1, 2 , 3] # python list\n",
    "np_arr = np.array(my_list) # casting python list to an array\n",
    "np_arr # retruns 1D array"
   ]
  },
  {
   "cell_type": "code",
   "execution_count": null,
   "metadata": {},
   "outputs": [],
   "source": [
    "my_mat = [[1,2,3],[4,5,6],[7,8,9]]\n",
    "np.array(my_mat)"
   ]
  },
  {
   "cell_type": "markdown",
   "metadata": {},
   "source": [
    "#### Via NumPy Array Generating functions"
   ]
  },
  {
   "cell_type": "code",
   "execution_count": null,
   "metadata": {},
   "outputs": [],
   "source": [
    "np.arange(start=0,stop=9,step=2) # returns an array of evenly space integer values in given range"
   ]
  },
  {
   "cell_type": "code",
   "execution_count": null,
   "metadata": {},
   "outputs": [],
   "source": [
    "np.zeros(shape=3) # returns a 1D array of zeroes\n",
    "np.zeros(shape=(3,3)) # returns a 3x3 matrix or 2D array zeros\n",
    "\n",
    "np.ones(shape=3) # returns a 1D array of ones\n",
    "np.ones(shape=(3,3)) # returns a 3x3 matrix or 2D array ones"
   ]
  },
  {
   "cell_type": "code",
   "execution_count": null,
   "metadata": {},
   "outputs": [],
   "source": [
    "np.linspace(start=0, stop=10, num=20) # returns array of evenly spaced numbers in the gievn range"
   ]
  },
  {
   "cell_type": "code",
   "execution_count": null,
   "metadata": {},
   "outputs": [],
   "source": [
    "np.eye(N=4) # returns a N by N identity matrix "
   ]
  },
  {
   "cell_type": "code",
   "execution_count": null,
   "metadata": {},
   "outputs": [],
   "source": [
    "np.random.rand(5) # returns a 1D array of with random values\n",
    "np.random.rand(5, 5) # returns a 2D array of with random values"
   ]
  },
  {
   "cell_type": "code",
   "execution_count": null,
   "metadata": {},
   "outputs": [],
   "source": [
    "np.random.randn(5) # returns 1D array random numbers from the standard normal distribution centered around zero\n",
    "np.random.randn(5, 5) # returns 2D array random numbers from the standard normal distribution centered around zero"
   ]
  },
  {
   "cell_type": "code",
   "execution_count": null,
   "metadata": {},
   "outputs": [],
   "source": [
    "np.random.randint(low=0, high=10, size=5) # returns an array of random integers excluding the high argrument"
   ]
  },
  {
   "cell_type": "markdown",
   "metadata": {},
   "source": [
    "### Other Useful methods"
   ]
  },
  {
   "cell_type": "code",
   "execution_count": 16,
   "metadata": {},
   "outputs": [
    {
     "data": {
      "text/plain": [
       "1"
      ]
     },
     "execution_count": 16,
     "metadata": {},
     "output_type": "execute_result"
    }
   ],
   "source": [
    "np_arr.max() # returns largest value in the array\n",
    "np_arr.argmax() # returns the index of the largest value\n",
    "\n",
    "np_arr.min() # returns smallest value in the array\n",
    "np_arr.argmin() # returns the index of the smallest value"
   ]
  },
  {
   "cell_type": "code",
   "execution_count": null,
   "metadata": {},
   "outputs": [],
   "source": [
    "np_arr.shape() # returns shape of the array\n",
    "np_arr.dtype() # return the data type in the array"
   ]
  }
 ],
 "metadata": {
  "kernelspec": {
   "display_name": "Python 3.9.7 64-bit",
   "language": "python",
   "name": "python3"
  },
  "language_info": {
   "codemirror_mode": {
    "name": "ipython",
    "version": 3
   },
   "file_extension": ".py",
   "mimetype": "text/x-python",
   "name": "python",
   "nbconvert_exporter": "python",
   "pygments_lexer": "ipython3",
   "version": "3.9.7"
  },
  "orig_nbformat": 4,
  "vscode": {
   "interpreter": {
    "hash": "11938c6bc6919ae2720b4d5011047913343b08a43b18698fd82dedb0d4417594"
   }
  }
 },
 "nbformat": 4,
 "nbformat_minor": 2
}
