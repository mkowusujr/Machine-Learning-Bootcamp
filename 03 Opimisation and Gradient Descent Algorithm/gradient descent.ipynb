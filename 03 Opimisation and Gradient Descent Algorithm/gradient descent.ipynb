{
 "cells": [
  {
   "cell_type": "markdown",
   "metadata": {},
   "source": [
    "# How the Machine Learns\n",
    "1. We start of by making a prediction that is completely random.\n",
    "2. Then calculate the error, this is where we measure how good our prediction was\n",
    "3. Lastly, learaning step, where we adjust our initial prediction and learn from our mistakes\n",
    "  \n",
    "# Optimisation and Cost Functions\n",
    "Cost Function/Loss Functions/Error Function/Objective Function\n",
    "\n",
    "---"
   ]
  },
  {
   "cell_type": "markdown",
   "metadata": {},
   "source": [
    "# Notebook Imports and Packages"
   ]
  },
  {
   "cell_type": "code",
   "execution_count": null,
   "metadata": {},
   "outputs": [],
   "source": [
    "import matplotlib.pyplot as plt\n",
    "import numpy as np\n",
    "\n",
    "%matplotlib inline"
   ]
  },
  {
   "cell_type": "markdown",
   "metadata": {},
   "source": [
    "# Example 1 - A simple cost function\n",
    "## $$f(x) = x^2 + x + 1$$"
   ]
  },
  {
   "cell_type": "code",
   "execution_count": null,
   "metadata": {},
   "outputs": [],
   "source": [
    "def f(x):\n",
    "    return x**2 + x + 1"
   ]
  },
  {
   "cell_type": "markdown",
   "metadata": {},
   "source": [
    "linspace creates a sequence of values in the start stop range num times that are spaced out equally"
   ]
  },
  {
   "cell_type": "code",
   "execution_count": null,
   "metadata": {},
   "outputs": [],
   "source": [
    "# Make Data\n",
    "x_1 = np.linspace(start=-3, stop=3, num=500)\n",
    "x_1"
   ]
  },
  {
   "cell_type": "code",
   "execution_count": null,
   "metadata": {},
   "outputs": [],
   "source": [
    "# PLot\n",
    "plt.plot(x_1, f(x_1))\n",
    "plt.xlim([-3, 3])\n",
    "plt.ylim(0, 8)\n",
    "plt.xlabel('X', fontsize=16)\n",
    "plt.ylabel('f(x)', fontsize=16)"
   ]
  },
  {
   "cell_type": "markdown",
   "metadata": {},
   "source": [
    "We want the value of x that minimizes the cost. The slope tells us when we have reached our lowest point. We want were the slope is zero.\n",
    "\n",
    "## Slope & Derivatives"
   ]
  },
  {
   "cell_type": "code",
   "execution_count": null,
   "metadata": {},
   "outputs": [],
   "source": [
    "def df(x):\n",
    "    return 2*x + 1"
   ]
  },
  {
   "cell_type": "code",
   "execution_count": null,
   "metadata": {},
   "outputs": [],
   "source": [
    "plt.figure(figsize=[15, 5])\n",
    "\n",
    "plt.subplot(1, 2, 1) # same row, two columns, index\n",
    "plt.plot(x_1, f(x_1), linewidth=5)\n",
    "plt.title('Cost Function')\n",
    "plt.grid()\n",
    "plt.xlim([-3, 3])\n",
    "plt.ylim(0, 8)\n",
    "plt.xlabel('X', fontsize=16)\n",
    "plt.ylabel(\"f(x)\", fontsize=16)\n",
    "\n",
    "# Chart 2: Derivative\n",
    "plt.subplot(1, 2, 2)\n",
    "plt.title('Slope of Cost Function')\n",
    "plt.plot(x_1, df(x_1), c='skyblue', linewidth=5)\n",
    "plt.grid()\n",
    "plt.xlim(-2, 3)\n",
    "plt.ylim(-3, 6)\n",
    "plt.xlabel('X', fontsize=16)\n",
    "plt.ylabel('df(x)', fontsize=16)\n",
    "\n",
    "plt.show()\n"
   ]
  },
  {
   "cell_type": "code",
   "execution_count": null,
   "metadata": {},
   "outputs": [],
   "source": [
    "plt.figure(figsize=[15, 5])\n",
    "\n",
    "plt.subplot(1, 2, 1) # same row, two columns, index\n",
    "plt.plot(x_1, f(x_1), linewidth=5)\n",
    "plt.title('Cost Function')\n",
    "plt.grid()\n",
    "plt.xlim([-3, 3])\n",
    "plt.ylim(0, 8)\n",
    "plt.xlabel('X', fontsize=16)\n",
    "plt.ylabel(\"f(x)\", fontsize=16)\n",
    "\n",
    "# Chart 2: Derivative\n",
    "plt.subplot(1, 2, 2)\n",
    "plt.title('Slope of Cost Function')\n",
    "plt.plot(x_1, df(x_1), c='skyblue', linewidth=5)\n",
    "plt.grid()\n",
    "plt.xlim(-2, 3)\n",
    "plt.ylim(-3, 6)\n",
    "plt.xlabel('X', fontsize=16)\n",
    "plt.ylabel('df(x)', fontsize=16)\n",
    "\n",
    "plt.show()"
   ]
  },
  {
   "cell_type": "markdown",
   "metadata": {},
   "source": [
    "# Gradient Dsecent is a facny word for slope\n",
    "# Python Loops & Gradient Descent"
   ]
  },
  {
   "cell_type": "code",
   "execution_count": null,
   "metadata": {},
   "outputs": [],
   "source": [
    "new_x = 3\n",
    "previous_x = 0\n",
    "step_multiplier = 0.1\n",
    "precision = 0.0001\n",
    "for n in range(500):\n",
    "    previous_x = new_x\n",
    "    gradient = df(previous_x)\n",
    "    new_x = previous_x - step_multiplier * gradient\n",
    "    step_size = abs(new_x - previous_x)\n",
    "    if (step_size < precision):\n",
    "        break\n",
    "\n",
    "print('Local mininum occurs at: ', new_x)\n",
    "print('Slope or df(x) value at this point is:', df(new_x))\n",
    "print('f(x) value or cost at this point is:', f(new_x))"
   ]
  },
  {
   "cell_type": "markdown",
   "metadata": {},
   "source": [
    "$\\theta_{1} $"
   ]
  },
  {
   "cell_type": "markdown",
   "metadata": {},
   "source": []
  }
 ],
 "metadata": {
  "kernelspec": {
   "display_name": "Python 3.9.7 64-bit",
   "language": "python",
   "name": "python3"
  },
  "language_info": {
   "codemirror_mode": {
    "name": "ipython",
    "version": 3
   },
   "file_extension": ".py",
   "mimetype": "text/x-python",
   "name": "python",
   "nbconvert_exporter": "python",
   "pygments_lexer": "ipython3",
   "version": "3.9.7"
  },
  "orig_nbformat": 4,
  "vscode": {
   "interpreter": {
    "hash": "11938c6bc6919ae2720b4d5011047913343b08a43b18698fd82dedb0d4417594"
   }
  }
 },
 "nbformat": 4,
 "nbformat_minor": 2
}
