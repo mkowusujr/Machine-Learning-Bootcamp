{
 "cells": [
  {
   "cell_type": "code",
   "execution_count": null,
   "metadata": {},
   "outputs": [],
   "source": []
  }
 ],
 "metadata": {
  "kernelspec": {
   "display_name": "Python 3.10.5 ('.venv': venv)",
   "language": "python",
   "name": "python3"
  },
  "language_info": {
   "name": "python",
   "version": "3.10.5"
  },
  "orig_nbformat": 4,
  "vscode": {
   "interpreter": {
    "hash": "c87afb1b8aa3ce47ffab5c38e6e395088d09aeccb9c5f5a7062dac7e2d1103a6"
   }
  }
 },
 "nbformat": 4,
 "nbformat_minor": 2
}
