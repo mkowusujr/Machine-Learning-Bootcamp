{
 "cells": [
  {
   "cell_type": "markdown",
   "metadata": {},
   "source": [
    "# NumPy Overview\n",
    "NumPy or numpy is a Linear Algebra Library for Python, a lot of the libraries in the PyData Ecosystem rely on NumPy as one of their main building blocks.\n",
    "\n",
    "NumPy arrarys come in flavors 1D vectors or 2D matrices.\n",
    "\n",
    "## NumPy Arrays\n",
    "### Creating Arrays\n",
    "#### Via Type Casting"
   ]
  },
  {
   "cell_type": "code",
   "execution_count": 1,
   "metadata": {},
   "outputs": [],
   "source": [
    "import numpy as np"
   ]
  },
  {
   "cell_type": "code",
   "execution_count": 2,
   "metadata": {},
   "outputs": [
    {
     "data": {
      "text/plain": [
       "array([1, 2, 3])"
      ]
     },
     "execution_count": 2,
     "metadata": {},
     "output_type": "execute_result"
    }
   ],
   "source": [
    "my_list = [1, 2 , 3] # python list\n",
    "np_arr = np.array(my_list) # casting python list to an array\n",
    "np_arr # retruns 1D array"
   ]
  },
  {
   "cell_type": "code",
   "execution_count": 3,
   "metadata": {},
   "outputs": [
    {
     "data": {
      "text/plain": [
       "array([[1, 2, 3],\n",
       "       [4, 5, 6],\n",
       "       [7, 8, 9]])"
      ]
     },
     "execution_count": 3,
     "metadata": {},
     "output_type": "execute_result"
    }
   ],
   "source": [
    "my_mat = [[1,2,3],[4,5,6],[7,8,9]]\n",
    "np.array(my_mat)"
   ]
  },
  {
   "cell_type": "markdown",
   "metadata": {},
   "source": [
    "#### Via NumPy Array Generating functions"
   ]
  },
  {
   "cell_type": "code",
   "execution_count": 4,
   "metadata": {},
   "outputs": [
    {
     "data": {
      "text/plain": [
       "array([0, 2, 4, 6, 8])"
      ]
     },
     "execution_count": 4,
     "metadata": {},
     "output_type": "execute_result"
    }
   ],
   "source": [
    "np.arange(start=0,stop=9,step=2) # returns an array of evenly space integer values in given range"
   ]
  },
  {
   "cell_type": "code",
   "execution_count": 5,
   "metadata": {},
   "outputs": [
    {
     "data": {
      "text/plain": [
       "array([[1., 1., 1.],\n",
       "       [1., 1., 1.],\n",
       "       [1., 1., 1.]])"
      ]
     },
     "execution_count": 5,
     "metadata": {},
     "output_type": "execute_result"
    }
   ],
   "source": [
    "np.zeros(shape=3) # returns a 1D array of zeroes\n",
    "np.zeros(shape=(3,3)) # returns a 3x3 matrix or 2D array zeros\n",
    "\n",
    "np.ones(shape=3) # returns a 1D array of ones\n",
    "np.ones(shape=(3,3)) # returns a 3x3 matrix or 2D array ones"
   ]
  },
  {
   "cell_type": "code",
   "execution_count": 6,
   "metadata": {},
   "outputs": [
    {
     "data": {
      "text/plain": [
       "array([ 0.        ,  0.52631579,  1.05263158,  1.57894737,  2.10526316,\n",
       "        2.63157895,  3.15789474,  3.68421053,  4.21052632,  4.73684211,\n",
       "        5.26315789,  5.78947368,  6.31578947,  6.84210526,  7.36842105,\n",
       "        7.89473684,  8.42105263,  8.94736842,  9.47368421, 10.        ])"
      ]
     },
     "execution_count": 6,
     "metadata": {},
     "output_type": "execute_result"
    }
   ],
   "source": [
    "np.linspace(start=0, stop=10, num=20) # returns array of evenly spaced numbers in the gievn range"
   ]
  },
  {
   "cell_type": "code",
   "execution_count": 7,
   "metadata": {},
   "outputs": [
    {
     "data": {
      "text/plain": [
       "array([[1., 0., 0., 0.],\n",
       "       [0., 1., 0., 0.],\n",
       "       [0., 0., 1., 0.],\n",
       "       [0., 0., 0., 1.]])"
      ]
     },
     "execution_count": 7,
     "metadata": {},
     "output_type": "execute_result"
    }
   ],
   "source": [
    "np.eye(N=4) # returns a N by N identity matrix "
   ]
  },
  {
   "cell_type": "code",
   "execution_count": 8,
   "metadata": {},
   "outputs": [
    {
     "data": {
      "text/plain": [
       "array([[0.3851829 , 0.12339246, 0.84789492, 0.54687184, 0.41140759],\n",
       "       [0.63494661, 0.74584952, 0.75713661, 0.59973376, 0.97700955],\n",
       "       [0.05251514, 0.41129385, 0.64422917, 0.56411716, 0.89159623],\n",
       "       [0.63598153, 0.29893586, 0.36491419, 0.22651927, 0.90443905],\n",
       "       [0.87465178, 0.25959887, 0.25819801, 0.2270764 , 0.65279841]])"
      ]
     },
     "execution_count": 8,
     "metadata": {},
     "output_type": "execute_result"
    }
   ],
   "source": [
    "np.random.rand(5) # returns a 1D array of with random values between 0 and 1\n",
    "np.random.rand(5, 5) # returns a 2D array of with random values"
   ]
  },
  {
   "cell_type": "code",
   "execution_count": 9,
   "metadata": {},
   "outputs": [
    {
     "data": {
      "text/plain": [
       "array([[ 0.60271241, -0.15029335,  0.37494505,  1.80626925, -0.79511961],\n",
       "       [-0.07241092, -0.54795351, -0.11172245, -0.45172205, -1.12212179],\n",
       "       [ 0.00822262, -0.33121283,  1.33188682,  0.81981222, -0.58816773],\n",
       "       [-1.81826013,  0.77850165,  1.06208436, -0.33017141, -1.78288629],\n",
       "       [-1.48555672, -2.11481164, -0.9372634 , -0.55625591,  0.77074788]])"
      ]
     },
     "execution_count": 9,
     "metadata": {},
     "output_type": "execute_result"
    }
   ],
   "source": [
    "np.random.randn(5) # returns 1D array random numbers from the standard normal distribution centered around zero\n",
    "np.random.randn(5, 5) # returns 2D array random numbers from the standard normal distribution centered around zero"
   ]
  },
  {
   "cell_type": "code",
   "execution_count": 10,
   "metadata": {},
   "outputs": [
    {
     "data": {
      "text/plain": [
       "array([3, 6, 8, 6, 5])"
      ]
     },
     "execution_count": 10,
     "metadata": {},
     "output_type": "execute_result"
    }
   ],
   "source": [
    "np.random.randint(low=0, high=10, size=5) # returns an array of random integers excluding the high argrument"
   ]
  },
  {
   "cell_type": "markdown",
   "metadata": {},
   "source": [
    "### Other Useful methods"
   ]
  },
  {
   "cell_type": "code",
   "execution_count": 11,
   "metadata": {},
   "outputs": [
    {
     "data": {
      "text/plain": [
       "0"
      ]
     },
     "execution_count": 11,
     "metadata": {},
     "output_type": "execute_result"
    }
   ],
   "source": [
    "np_arr.max() # returns largest value in the array\n",
    "np_arr.argmax() # returns the index of the largest value\n",
    "\n",
    "np_arr.min() # returns smallest value in the array\n",
    "np_arr.argmin() # returns the index of the smallest value"
   ]
  },
  {
   "cell_type": "code",
   "execution_count": 12,
   "metadata": {},
   "outputs": [
    {
     "data": {
      "text/plain": [
       "dtype('int32')"
      ]
     },
     "execution_count": 12,
     "metadata": {},
     "output_type": "execute_result"
    }
   ],
   "source": [
    "np_arr.shape # returns shape of the array\n",
    "np_arr.dtype # return the data type in the array"
   ]
  },
  {
   "cell_type": "markdown",
   "metadata": {},
   "source": [
    "### NumPy Indexing and Selection"
   ]
  },
  {
   "cell_type": "markdown",
   "metadata": {},
   "source": [
    "#### 1D Arrays"
   ]
  },
  {
   "cell_type": "code",
   "execution_count": 13,
   "metadata": {},
   "outputs": [],
   "source": [
    "arr = np.arange(0,11)\n",
    "arr[5] # return the value at index eight\n",
    "arr[1:5] # the values between index 1 and five exclusive\n",
    "arr[:6] # returns the values up to index 6\n",
    "arr[5:] # return eventhing between index 5\n",
    "arr[1:5] = 5 # sets the values between 1 and five exclusive into 5s\n",
    "\n",
    "# In python everything is a passed by reference, if you want to make a copy of an array you need the following\n",
    "second_arr = arr.copy()"
   ]
  },
  {
   "cell_type": "markdown",
   "metadata": {},
   "source": [
    "#### 2D Arrays"
   ]
  },
  {
   "cell_type": "code",
   "execution_count": 14,
   "metadata": {},
   "outputs": [
    {
     "data": {
      "text/plain": [
       "array([[2, 3],\n",
       "       [5, 6]])"
      ]
     },
     "execution_count": 14,
     "metadata": {},
     "output_type": "execute_result"
    }
   ],
   "source": [
    "arr_2d = np.array([[1,2,3], [4,5,6], [7,8,9]])\n",
    "arr_2d[1] # returns the second row\n",
    "arr_2d[1][1] # returns the value in the second column in the second row\n",
    "arr_2d[1,1] # returns the value in the second column in the second row\n",
    "arr_2d[:2, 1:] # returns the values in the first two rows and from the second column onwards"
   ]
  },
  {
   "cell_type": "markdown",
   "metadata": {},
   "source": [
    "#### Conditional Selection"
   ]
  },
  {
   "cell_type": "code",
   "execution_count": 15,
   "metadata": {},
   "outputs": [
    {
     "data": {
      "text/plain": [
       "array([ 6,  7,  8,  9, 10])"
      ]
     },
     "execution_count": 15,
     "metadata": {},
     "output_type": "execute_result"
    }
   ],
   "source": [
    "bool_arr = arr > 5 # creates a boolean array using a comparsion operator\n",
    "bool_arr\n",
    "arr[bool_arr] # Conditional selects all the values that are true in the boolean array\n",
    "arr[arr>5] # The shorthand"
   ]
  },
  {
   "cell_type": "markdown",
   "metadata": {},
   "source": [
    "#### Slicing 2D Array Example"
   ]
  },
  {
   "cell_type": "code",
   "execution_count": 16,
   "metadata": {},
   "outputs": [],
   "source": [
    "arr_2d = np.arange(50)\n",
    "arr_2d = arr_2d.reshape(5,10) # reshapes the array for 1D to a 5x10 2D array. Can't reshape to less or more than what you have"
   ]
  },
  {
   "cell_type": "code",
   "execution_count": 17,
   "metadata": {},
   "outputs": [
    {
     "data": {
      "text/plain": [
       "array([[ 0,  1,  2,  3,  4,  5,  6,  7,  8,  9],\n",
       "       [10, 11, 12, 13, 14, 15, 16, 17, 18, 19],\n",
       "       [20, 21, 22, 23, 24, 25, 26, 27, 28, 29],\n",
       "       [30, 31, 32, 33, 34, 35, 36, 37, 38, 39],\n",
       "       [40, 41, 42, 43, 44, 45, 46, 47, 48, 49]])"
      ]
     },
     "execution_count": 17,
     "metadata": {},
     "output_type": "execute_result"
    }
   ],
   "source": [
    "arr_2d"
   ]
  },
  {
   "cell_type": "code",
   "execution_count": 18,
   "metadata": {},
   "outputs": [
    {
     "data": {
      "text/plain": [
       "array([[13, 14],\n",
       "       [23, 24]])"
      ]
     },
     "execution_count": 18,
     "metadata": {},
     "output_type": "execute_result"
    }
   ],
   "source": [
    "arr_2d[1:3,3:5]"
   ]
  },
  {
   "cell_type": "markdown",
   "metadata": {},
   "source": [
    "### NumPy Operations"
   ]
  },
  {
   "cell_type": "code",
   "execution_count": 19,
   "metadata": {},
   "outputs": [
    {
     "name": "stderr",
     "output_type": "stream",
     "text": [
      "C:\\Users\\mokay\\AppData\\Local\\Temp\\ipykernel_12808\\2753033166.py:14: RuntimeWarning: invalid value encountered in divide\n",
      "  arr / arr # Divides the values in both arrays, first value is NAN\n"
     ]
    },
    {
     "data": {
      "text/plain": [
       "array([nan,  1.,  1.,  1.,  1.,  1.,  1.,  1.,  1.,  1.,  1.])"
      ]
     },
     "execution_count": 19,
     "metadata": {},
     "output_type": "execute_result"
    }
   ],
   "source": [
    "[1,2,3] + [4,5,6] # When you add two lists, the 2nd one gets appended to the first\n",
    "arr = np.arange(0,11)\n",
    "arr + arr # Adding to np.arrays adds the values of both arrays together\n",
    "arr - arr # Subtracts the values in both arrays\n",
    "arr * arr # Multiplies the values in both arrays\n",
    "\n",
    "arr + 100 # Scalar (number) operation, adds 100 to all the elements in the array\n",
    "arr * 5 # Multiplies 5 to all the elements in the array\n",
    "arr - 5 # Subtracts 5 to all the elements in the array\n",
    "arr / 5 # Divides 5 to all the elements in the array\n",
    "arr ** 2 # All the elements in the array to the power of two\n",
    "\n",
    "# NumPy gives you warnings and output NAN or INF when you try to do illegal math operations\n",
    "arr / arr # Divides the values in both arrays, first value is NAN"
   ]
  },
  {
   "cell_type": "markdown",
   "metadata": {},
   "source": [
    "#### Some of the Universal NumPy Functions\n",
    "For more go to [the site docs](https://docs.scipy.org/doc/numpy-1.3.x/reference/ufuncs.html)"
   ]
  },
  {
   "cell_type": "code",
   "execution_count": 20,
   "metadata": {},
   "outputs": [
    {
     "name": "stderr",
     "output_type": "stream",
     "text": [
      "C:\\Users\\mokay\\AppData\\Local\\Temp\\ipykernel_12808\\2696486501.py:5: RuntimeWarning: divide by zero encountered in log\n",
      "  np.log(arr) # passes all the values in the log function\n"
     ]
    },
    {
     "data": {
      "text/plain": [
       "array([      -inf, 0.        , 0.69314718, 1.09861229, 1.38629436,\n",
       "       1.60943791, 1.79175947, 1.94591015, 2.07944154, 2.19722458,\n",
       "       2.30258509])"
      ]
     },
     "execution_count": 20,
     "metadata": {},
     "output_type": "execute_result"
    }
   ],
   "source": [
    "np.sqrt(arr) # returns an array of the square roots of every element in the array\n",
    "np.exp(arr) # returns an array of the expontial of every element in the array\n",
    "np.max(arr) # returns largest value\n",
    "np.sin(arr) # passes all the values in the sine function\n",
    "np.log(arr) # passes all the values in the log function"
   ]
  }
 ],
 "metadata": {
  "kernelspec": {
   "display_name": "Python 3.10.5 64-bit",
   "language": "python",
   "name": "python3"
  },
  "language_info": {
   "codemirror_mode": {
    "name": "ipython",
    "version": 3
   },
   "file_extension": ".py",
   "mimetype": "text/x-python",
   "name": "python",
   "nbconvert_exporter": "python",
   "pygments_lexer": "ipython3",
   "version": "3.10.5"
  },
  "orig_nbformat": 4,
  "vscode": {
   "interpreter": {
    "hash": "2b3bf6ed06d97df9215025b9c2a41885c4e82cb7758b47c012e2fa2978dd3e5b"
   }
  }
 },
 "nbformat": 4,
 "nbformat_minor": 2
}
