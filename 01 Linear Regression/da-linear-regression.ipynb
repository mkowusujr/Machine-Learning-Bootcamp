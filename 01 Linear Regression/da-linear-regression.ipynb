{
 "cells": [
  {
   "cell_type": "markdown",
   "metadata": {},
   "source": [
    "##### Aka the Hello World of Data Science\n",
    "# Linear Regression\n",
    "A simple **Linear Regression** model tries to explain the relationship between two vairables using best fitting stratight line called a **regression line**.\n",
    "The variable on the _x-axis is the Independent Variable_, it predicts the value of the _Dependent variable on the y-axis_.\n",
    "he value on the y-axis is the Dependent Variable.\n",
    "\n",
    "![example](lin-regress-ex.png)  \n",
    "There any many possible strategies to calculate the regression line. \n",
    "The most popular is the **Least Squares Regression**.\n",
    "\n",
    "In with this strategy we draw a line through the data points. Then we measure the vertical distances from the actual points and our regression line, these are called the **resdiual**. Then we add up all our measurements. The best regression line we be the one where the sum of the distances is as small as possible.\n",
    "The formula usually used is $MSE = \\frac{1}{n} \\sum(y - \\hat y)^2$. Also known as the **Mean Squared Error**. The answer is also refered to as the **Residual Sum of Squares**.  \n",
    "Sidenote: $\\hat y$ is our predicted y-value.\n",
    "\n",
    "__With Linear Regression we can predict what the y-value of a given x-value will be.__\n",
    "\n",
    "Addiotional the regression line can be seen as a function which is indentical to $y =mx + b$. Often in datascience it is written as $h_{\\theta}(x) = \\theta_{0} + \\theta_{1}x$. This function is our *hypothesis*.\n",
    "\n",
    "Our regression line can tell us how strong the relationship betweentwo variables is."
   ]
  },
  {
   "cell_type": "markdown",
   "metadata": {},
   "source": [
    "# How Data Scientist solve problems\n",
    "1. Forumulate the Question\n",
    "2. Gather the Data\n",
    "3. Clean the Data\n",
    "4. Explore and Visualise the Data\n",
    "5. Train the Algorithm to identitfy patterns in the data\n",
    "6. Evaulate the results"
   ]
  },
  {
   "cell_type": "markdown",
   "metadata": {},
   "source": [
    "## Example Movie Problem\n",
    "### First we Forumulate a Movie Question\n",
    "\n",
    "--How much money will our movie make?-- *To vague*  \n",
    "--How mch revenue will our movie make?-- *Better but not quite*\n",
    "\n",
    "Can we use movie budgets to predict movie revenue? We can measure this\n",
    "\n",
    "| Graph Coordinate | Data Science         | Machine Learning | Our Project |\n",
    "| ---------------- | -------------------- | ---------------- | ----------- |\n",
    "| y                | Dependent Variable   | Target           | Renvenue    |\n",
    "| x                | Independent Variable | Feature          | Budget      |\n"
   ]
  },
  {
   "cell_type": "code",
   "execution_count": null,
   "metadata": {},
   "outputs": [],
   "source": [
    "import pandas\n",
    "from pandas import DataFrame\n",
    "import matplotlib.pyplot as plt\n",
    "\n",
    "from sklearn.linear_model import LinearRegression"
   ]
  },
  {
   "cell_type": "markdown",
   "metadata": {},
   "source": [
    "### Then we gather and clean the data"
   ]
  },
  {
   "cell_type": "code",
   "execution_count": null,
   "metadata": {},
   "outputs": [],
   "source": [
    "data_set = pandas.read_csv('cost_revenue_clean.csv')"
   ]
  },
  {
   "cell_type": "markdown",
   "metadata": {},
   "source": [
    "The describe() gives as some basic stats such as :  \n",
    "+ the count\n",
    "* the mean\n",
    "* the std\n",
    "* the min\n",
    "* and more"
   ]
  },
  {
   "cell_type": "code",
   "execution_count": null,
   "metadata": {},
   "outputs": [],
   "source": [
    "data_set.describe()"
   ]
  },
  {
   "cell_type": "markdown",
   "metadata": {},
   "source": [
    "Dataframes are super powerful spreedsheets"
   ]
  },
  {
   "cell_type": "code",
   "execution_count": null,
   "metadata": {},
   "outputs": [],
   "source": [
    "X = DataFrame(data_set, columns =['production_budget_usd'])\n",
    "y = DataFrame(data_set, columns =['worldwide_gross_usd'])"
   ]
  },
  {
   "cell_type": "markdown",
   "metadata": {},
   "source": [
    "### Then we visualize and explore our data"
   ]
  },
  {
   "cell_type": "code",
   "execution_count": null,
   "metadata": {},
   "outputs": [],
   "source": [
    "plt.figure(figsize=(10, 6))\n",
    "plt.scatter(X, y, alpha=0.3)\n",
    "plt.title('Film Cost vs Global Revenue')\n",
    "plt.xlabel('Production Budget $')\n",
    "plt.ylabel('Worldwide Gross $')\n",
    "plt.ylim(0, 3e9)\n",
    "plt.xlim(0, 4.5e8)"
   ]
  },
  {
   "cell_type": "markdown",
   "metadata": {},
   "source": [
    "### Then we run our algorithm\n",
    "How to find the regression line"
   ]
  },
  {
   "cell_type": "code",
   "execution_count": null,
   "metadata": {},
   "outputs": [],
   "source": [
    "regression = LinearRegression()\n",
    "regression.fit(X, y)"
   ]
  },
  {
   "cell_type": "markdown",
   "metadata": {},
   "source": [
    "How to find the regression line's slope coeficient"
   ]
  },
  {
   "cell_type": "code",
   "execution_count": null,
   "metadata": {},
   "outputs": [],
   "source": [
    "m = regression.coef_[0][0]"
   ]
  },
  {
   "cell_type": "markdown",
   "metadata": {},
   "source": [
    "How to find the regression line's slope intercept"
   ]
  },
  {
   "cell_type": "code",
   "execution_count": null,
   "metadata": {},
   "outputs": [],
   "source": [
    "c = regression.intercept_[0]"
   ]
  },
  {
   "cell_type": "markdown",
   "metadata": {},
   "source": [
    "### Lastly we analyse our results"
   ]
  },
  {
   "cell_type": "code",
   "execution_count": null,
   "metadata": {},
   "outputs": [],
   "source": [
    "plt.figure(figsize=(10, 6))\n",
    "plt.scatter(X, y, alpha=0.3)\n",
    "plt.plot(X, regression.predict(X), color='red', linewidth=4)\n",
    "\n",
    "plt.title('Film Cost vs Global Revenue')\n",
    "plt.xlabel('Production Budget $')\n",
    "plt.ylabel('Worldwide Gross $')\n",
    "plt.ylim(0, 3e9)\n",
    "plt.xlim(0, 4.5e8)"
   ]
  },
  {
   "cell_type": "markdown",
   "metadata": {},
   "source": [
    "First question we ask is our the parameter we go from our algorithm plausable?\n",
    "\n",
    "Our m = 3.113 and our c = -7.236e6\n",
    "From our slope we know we have a positive relationship between the **production budget** and the **worldwide gross amount**. For every dollar we spend you get back $3.1 dollars.\n",
    "\n",
    "However our c value doesn't make much sense. It states that if you spend 0 dollar for your production budget, you will lose more than 7 million dollars.\n",
    "\n",
    "Based on our model we can conclude that we should take this model with a grain of salt. The prediction at the extremes aren't fitted well. This makes sense because our algorithmn favors the average of the data.\n",
    "\n",
    "Even though our model is very simplistic, we can still ask How much of the real world data does it actually explains. To do this we need to find **$r^2$** aka **Goodness of Fit**.\n",
    "\n",
    "How to find are squared"
   ]
  },
  {
   "cell_type": "code",
   "execution_count": null,
   "metadata": {},
   "outputs": [],
   "source": [
    "regression.score(X, y)"
   ]
  }
 ],
 "metadata": {
  "kernelspec": {
   "display_name": "Python 3.9.7 64-bit",
   "language": "python",
   "name": "python3"
  },
  "language_info": {
   "codemirror_mode": {
    "name": "ipython",
    "version": 3
   },
   "file_extension": ".py",
   "mimetype": "text/x-python",
   "name": "python",
   "nbconvert_exporter": "python",
   "pygments_lexer": "ipython3",
   "version": "3.9.7"
  },
  "orig_nbformat": 4,
  "vscode": {
   "interpreter": {
    "hash": "11938c6bc6919ae2720b4d5011047913343b08a43b18698fd82dedb0d4417594"
   }
  }
 },
 "nbformat": 4,
 "nbformat_minor": 2
}
