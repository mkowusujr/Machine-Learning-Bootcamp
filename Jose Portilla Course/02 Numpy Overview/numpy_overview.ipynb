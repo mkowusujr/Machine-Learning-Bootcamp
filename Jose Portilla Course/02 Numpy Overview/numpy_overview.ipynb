{
 "cells": [
  {
   "cell_type": "markdown",
   "metadata": {},
   "source": [
    "# NumPy Overview\n",
    "NumPy or numpy is a Linear Algebra Library for Python, a lot of the libraries in the PyData Ecosystem rely on NumPy as one of their main building blocks.\n",
    "\n",
    "NumPy arrarys come in flavors 1D vectors or 2D matrices.\n",
    "\n",
    "## NumPy Arrays\n",
    "### Creating Arrays\n",
    "#### Via Type Casting"
   ]
  },
  {
   "cell_type": "code",
   "execution_count": null,
   "metadata": {},
   "outputs": [],
   "source": [
    "import numpy as np"
   ]
  },
  {
   "cell_type": "code",
   "execution_count": null,
   "metadata": {},
   "outputs": [],
   "source": [
    "my_list = [1, 2 , 3] # python list\n",
    "np_arr = np.array(my_list) # casting python list to an array\n",
    "np_arr # retruns 1D array"
   ]
  },
  {
   "cell_type": "code",
   "execution_count": null,
   "metadata": {},
   "outputs": [],
   "source": [
    "my_mat = [[1,2,3],[4,5,6],[7,8,9]]\n",
    "np.array(my_mat)"
   ]
  },
  {
   "cell_type": "markdown",
   "metadata": {},
   "source": [
    "#### Via NumPy Array Generating functions"
   ]
  },
  {
   "cell_type": "code",
   "execution_count": null,
   "metadata": {},
   "outputs": [],
   "source": [
    "np.arange(start=0,stop=9,step=2) # returns an array of evenly space integer values in given range"
   ]
  },
  {
   "cell_type": "code",
   "execution_count": null,
   "metadata": {},
   "outputs": [],
   "source": [
    "np.zeros(shape=3) # returns a 1D array of zeroes\n",
    "np.zeros(shape=(3,3)) # returns a 3x3 matrix or 2D array zeros\n",
    "\n",
    "np.ones(shape=3) # returns a 1D array of ones\n",
    "np.ones(shape=(3,3)) # returns a 3x3 matrix or 2D array ones"
   ]
  },
  {
   "cell_type": "code",
   "execution_count": null,
   "metadata": {},
   "outputs": [],
   "source": [
    "np.linspace(start=0, stop=10, num=20) # returns array of evenly spaced numbers in the gievn range"
   ]
  },
  {
   "cell_type": "code",
   "execution_count": null,
   "metadata": {},
   "outputs": [],
   "source": [
    "np.eye(N=4) # returns a N by N identity matrix "
   ]
  },
  {
   "cell_type": "code",
   "execution_count": null,
   "metadata": {},
   "outputs": [],
   "source": [
    "np.random.rand(5) # returns a 1D array of with random values\n",
    "np.random.rand(5, 5) # returns a 2D array of with random values"
   ]
  },
  {
   "cell_type": "code",
   "execution_count": null,
   "metadata": {},
   "outputs": [],
   "source": [
    "np.random.randn(5) # returns 1D array random numbers from the standard normal distribution centered around zero\n",
    "np.random.randn(5, 5) # returns 2D array random numbers from the standard normal distribution centered around zero"
   ]
  },
  {
   "cell_type": "code",
   "execution_count": null,
   "metadata": {},
   "outputs": [],
   "source": [
    "np.random.randint(low=0, high=10, size=5) # returns an array of random integers excluding the high argrument"
   ]
  },
  {
   "cell_type": "markdown",
   "metadata": {},
   "source": [
    "### Other Useful methods"
   ]
  },
  {
   "cell_type": "code",
   "execution_count": null,
   "metadata": {},
   "outputs": [],
   "source": [
    "np_arr.max() # returns largest value in the array\n",
    "np_arr.argmax() # returns the index of the largest value\n",
    "\n",
    "np_arr.min() # returns smallest value in the array\n",
    "np_arr.argmin() # returns the index of the smallest value"
   ]
  },
  {
   "cell_type": "code",
   "execution_count": null,
   "metadata": {},
   "outputs": [],
   "source": [
    "np_arr.shape # returns shape of the array\n",
    "np_arr.dtype # return the data type in the array"
   ]
  },
  {
   "cell_type": "markdown",
   "metadata": {},
   "source": [
    "### NumPy Indexing and Selection"
   ]
  },
  {
   "cell_type": "markdown",
   "metadata": {},
   "source": [
    "#### 1D Arrays"
   ]
  },
  {
   "cell_type": "code",
   "execution_count": null,
   "metadata": {},
   "outputs": [],
   "source": [
    "arr = np.arange(0,11)\n",
    "arr[5] # return the value at index eight\n",
    "arr[1:5] # the values between index 1 and five exclusive\n",
    "arr[:6] # returns the values up to index 6\n",
    "arr[5:] # return eventhing between index 5\n",
    "arr[1:5] = 5 # sets the values between 1 and five exclusive into 5s\n",
    "\n",
    "# In python everything is a passed by reference, if you want to make a copy of an array you need the following\n",
    "second_arr = arr.copy()"
   ]
  },
  {
   "cell_type": "markdown",
   "metadata": {},
   "source": [
    "#### 2D Arrays"
   ]
  },
  {
   "cell_type": "code",
   "execution_count": null,
   "metadata": {},
   "outputs": [],
   "source": [
    "arr_2d = np.array([[1,2,3], [4,5,6], [7,8,9]])\n",
    "arr_2d[1] # returns the second row\n",
    "arr_2d[1][1] # returns the value in the second column in the second row\n",
    "arr_2d[1,1] # returns the value in the second column in the second row\n",
    "arr_2d[:2, 1:] # returns the values in the first two rows and from the second column onwards"
   ]
  },
  {
   "cell_type": "markdown",
   "metadata": {},
   "source": [
    "#### Conditional Selection"
   ]
  },
  {
   "cell_type": "code",
   "execution_count": null,
   "metadata": {},
   "outputs": [],
   "source": [
    "bool_arr = arr > 5 # creates a boolean array using a comparsion operator\n",
    "bool_arr\n",
    "arr[bool_arr] # Conditional selects all the values that are true in the boolean array\n",
    "arr[arr>5] # The shorthand"
   ]
  },
  {
   "cell_type": "markdown",
   "metadata": {},
   "source": [
    "#### Slicing 2D Array Example"
   ]
  },
  {
   "cell_type": "code",
   "execution_count": null,
   "metadata": {},
   "outputs": [],
   "source": [
    "arr_2d = np.arange(50)\n",
    "arr_2d = arr_2d.reshape(5,10) # reshapes the array for 1D to a 5x10 2D array. Can't reshape to less or more than what you have"
   ]
  },
  {
   "cell_type": "code",
   "execution_count": null,
   "metadata": {},
   "outputs": [],
   "source": [
    "arr_2d"
   ]
  },
  {
   "cell_type": "code",
   "execution_count": null,
   "metadata": {},
   "outputs": [],
   "source": [
    "arr_2d[1:3,3:5]"
   ]
  },
  {
   "cell_type": "markdown",
   "metadata": {},
   "source": [
    "### NumPy Operations"
   ]
  },
  {
   "cell_type": "code",
   "execution_count": null,
   "metadata": {},
   "outputs": [],
   "source": [
    "[1,2,3] + [4,5,6] # When you add two lists, the 2nd one gets appended to the first\n",
    "arr = np.arange(0,11)\n",
    "arr + arr # Adding to np.arrays adds the values of both arrays together\n",
    "arr - arr # Subtracts the values in both arrays\n",
    "arr * arr # Multiplies the values in both arrays\n",
    "\n",
    "arr + 100 # Scalar (number) operation, adds 100 to all the elements in the array\n",
    "arr * 5 # Multiplies 5 to all the elements in the array\n",
    "arr - 5 # Subtracts 5 to all the elements in the array\n",
    "arr / 5 # Divides 5 to all the elements in the array\n",
    "arr ** 2 # All the elements in the array to the power of two\n",
    "\n",
    "# NumPy gives you warnings and output NAN or INF when you try to do illegal math operations\n",
    "arr / arr # Divides the values in both arrays, first value is NAN"
   ]
  },
  {
   "cell_type": "markdown",
   "metadata": {},
   "source": [
    "#### Some of the Universal NumPy Functions\n",
    "For more go to [the site docs](https://docs.scipy.org/doc/numpy-1.3.x/reference/ufuncs.html)"
   ]
  },
  {
   "cell_type": "code",
   "execution_count": null,
   "metadata": {},
   "outputs": [],
   "source": [
    "np.sqrt(arr) # returns an array of the square roots of every element in the array\n",
    "np.exp(arr) # returns an array of the expontial of every element in the array\n",
    "np.max(arr) # returns largest value\n",
    "np.sin(arr) # passes all the values in the sine function\n",
    "np.log(arr) # passes all the values in the log function"
   ]
  }
 ],
 "metadata": {
  "kernelspec": {
   "display_name": "Python 3.10.5 ('.venv': venv)",
   "language": "python",
   "name": "python3"
  },
  "language_info": {
   "codemirror_mode": {
    "name": "ipython",
    "version": 3
   },
   "file_extension": ".py",
   "mimetype": "text/x-python",
   "name": "python",
   "nbconvert_exporter": "python",
   "pygments_lexer": "ipython3",
   "version": "3.10.5"
  },
  "orig_nbformat": 4,
  "vscode": {
   "interpreter": {
    "hash": "c87afb1b8aa3ce47ffab5c38e6e395088d09aeccb9c5f5a7062dac7e2d1103a6"
   }
  }
 },
 "nbformat": 4,
 "nbformat_minor": 2
}
