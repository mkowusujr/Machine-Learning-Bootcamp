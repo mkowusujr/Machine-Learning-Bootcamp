{
 "cells": [
  {
   "cell_type": "markdown",
   "metadata": {},
   "source": [
    "# Julia\n",
    "Julia is an open-source, multi-platform, high-level, high-performance programming language for technical computing.\n",
    "\n",
    "Julia has an LLVM-based JIT compiler that allows it to match the performance of languages such as C and FORTRAN without the hassle of low-level code.\n",
    "\n",
    "Julia has many built-in mathematical functions, including special functions (e.g. Gamma), and supports complex numbers right out of the box."
   ]
  },
  {
   "cell_type": "code",
   "execution_count": 6,
   "metadata": {},
   "outputs": [
    {
     "name": "stdout",
     "output_type": "stream",
     "text": [
      "Hello World\n"
     ]
    }
   ],
   "source": [
    "println(\"Hello World\")"
   ]
  },
  {
   "cell_type": "markdown",
   "metadata": {},
   "source": [
    "## Resources"
   ]
  },
  {
   "cell_type": "markdown",
   "metadata": {},
   "source": [
    "https://juliadocs.github.io/Julia-Cheat-Sheet/\n"
   ]
  },
  {
   "cell_type": "markdown",
   "metadata": {},
   "source": [
    "## Baiscs"
   ]
  },
  {
   "cell_type": "code",
   "execution_count": 7,
   "metadata": {},
   "outputs": [
    {
     "data": {
      "text/plain": [
       "false"
      ]
     },
     "execution_count": 7,
     "metadata": {},
     "output_type": "execute_result"
    }
   ],
   "source": [
    "#=\n",
    "The basic of julia syntax\n",
    "=#\n",
    "\n",
    "answer = 42 # Assignment\n",
    "\n",
    "const DATE_OF_BIRTH = 2012 # Constant declaration\n",
    "\n",
    "function add_one(i) # Function definition\n",
    "    return i + 1\n",
    "end\n",
    "\n",
    "# Chaining\n",
    "x = y = z = 1 # Right to left\n",
    "0 < x < 3 # true\n",
    "5 < x != y < 5 # false"
   ]
  },
  {
   "cell_type": "markdown",
   "metadata": {},
   "source": [
    "## Operators"
   ]
  },
  {
   "cell_type": "code",
   "execution_count": 8,
   "metadata": {},
   "outputs": [
    {
     "data": {
      "text/plain": [
       "true"
      ]
     },
     "execution_count": 8,
     "metadata": {},
     "output_type": "execute_result"
    }
   ],
   "source": [
    "2^3 # Exponentiation\n",
    "a = b = 5\n",
    "a == b ? \"Equal\" : \"Not equal\" # Ternary operator\n",
    "a === b # Object equivalence"
   ]
  },
  {
   "cell_type": "markdown",
   "metadata": {},
   "source": [
    "## Strings"
   ]
  },
  {
   "cell_type": "code",
   "execution_count": 9,
   "metadata": {},
   "outputs": [
    {
     "name": "stdout",
     "output_type": "stream",
     "text": [
      "A   s t r i n g \n",
      "Learn Julia\n",
      "a * b = 4\n",
      "Julius\n",
      "3\n"
     ]
    }
   ],
   "source": [
    "chr = 'C'\n",
    "str = \"A string\" # have to be double quotes\n",
    "Int('J') == 74 # Character code\n",
    "Char(74) == 'J' # Character from code\n",
    "\n",
    "for c in str # Loop through characters\n",
    "    print(c, \" \")\n",
    "end\n",
    "\n",
    "str = \"Learn\" * \" \" * \"Julia\" # Concatenation\n",
    "println(\"\\n\", str)\n",
    "\n",
    "a = b = 2\n",
    "println(\"a * b = $(a*b)\") # String interpolation\n",
    "\n",
    "length(\"Hello\") # Number of characters\n",
    "\n",
    "println(replace(\"Julia\", \"a\" => \"us\")) # Replace substring or regular expression\n",
    "\n",
    "println(findfirst(isequal('l'), \"Julia\")) # First matching character"
   ]
  },
  {
   "cell_type": "markdown",
   "metadata": {},
   "source": [
    "## Numbers"
   ]
  },
  {
   "cell_type": "code",
   "execution_count": 10,
   "metadata": {},
   "outputs": [],
   "source": [
    "#=\n",
    "Type conversions:\n",
    "convert(TypeName, val) \n",
    "=#"
   ]
  },
  {
   "cell_type": "markdown",
   "metadata": {},
   "source": [
    "## Random Numbers"
   ]
  },
  {
   "cell_type": "code",
   "execution_count": 11,
   "metadata": {},
   "outputs": [
    {
     "data": {
      "text/plain": [
       "true"
      ]
     },
     "execution_count": 11,
     "metadata": {},
     "output_type": "execute_result"
    }
   ],
   "source": [
    "rand()   # uniform [0,1)\n",
    "randn()  # normal (-Inf, Inf)\n",
    "\n",
    "using Distributions\n",
    "my_dist = Bernoulli(0.2) # For example\n",
    "rand(my_dist)\n",
    "\n",
    "#=\n",
    "Random permutation elements of A:\n",
    "shuffle(A)\n",
    "=#"
   ]
  },
  {
   "cell_type": "markdown",
   "metadata": {},
   "source": [
    "## Arrays"
   ]
  },
  {
   "cell_type": "code",
   "execution_count": 12,
   "metadata": {},
   "outputs": [
    {
     "name": "stdout",
     "output_type": "stream",
     "text": [
      "Any[\"Some text\", 23, 54]\n",
      "Any[\"Some text\", 23, 54]\n"
     ]
    },
    {
     "data": {
      "text/plain": [
       "true"
      ]
     },
     "execution_count": 12,
     "metadata": {},
     "output_type": "execute_result"
    }
   ],
   "source": [
    "# arrays start at 1 in julia\n",
    "\n",
    "arr = Int64[] # Declaration\n",
    "#sizehint!(arr, 5) # Pre-allocate 5 slots into the arr\n",
    "\n",
    "arr = Any[1, 23, 54] # Access and assignment\n",
    "arr[1] = \"Some text\"\n",
    "println(arr)\n",
    "\n",
    "arr[2:3] # Select subarray from m to n\n",
    "\n",
    "zeros(5) # n-element array with 0.0s\n",
    "ones(5) # n-element array with 1.0s\n",
    "\n",
    "rand(Int8, 5) # Array with n random Int8 elements\n",
    "\n",
    "push!(arr, 12) # Push val as last element\n",
    "pushfirst!(arr, 11) # Push val as first element\n",
    "pop!(arr) # Pop val as last element\n",
    "popfirst!(arr) # Pop val as first \n",
    "\n",
    "println(arr)\n",
    "deleteat!(arr, 1) # Remove element at index idx\t\n",
    "\n",
    "push!(arr, 12)\n",
    "sort!(arr) # Sort\n",
    "\n",
    "arr2 = Any[32, 32, 45]\n",
    "append!(arr, arr2) # append\n",
    "\n",
    "in(12, arr) # Check whether val is element\n",
    "12 in arr"
   ]
  },
  {
   "cell_type": "markdown",
   "metadata": {},
   "source": [
    "## Control Flow and Loop"
   ]
  },
  {
   "cell_type": "code",
   "execution_count": 16,
   "metadata": {},
   "outputs": [
    {
     "name": "stdout",
     "output_type": "stream",
     "text": [
      "bigger\n",
      "1 3 5 7 9 \n",
      "1 2 3 4 5 2 4 6 8 10 3 6 9 12 15 4 8 12 16 20 5 10 15 20 25 \n",
      "0 1 2 3 4 "
     ]
    }
   ],
   "source": [
    "a = 40\n",
    "if a > 20\n",
    "    println(\"bigger\")\n",
    "elseif a < 20\n",
    "    println(\"lesser\")\n",
    "else\n",
    "    println(\"same\")\n",
    "end\n",
    "\n",
    "for i in 1:2:10 #start, step, stop\n",
    "    print(i, \" \")\n",
    "end\n",
    "\n",
    "println() \n",
    "for i = 1:5, j = 1:5 # Unnested for loop\n",
    "    print(i * j, \" \")\n",
    "end\n",
    "\n",
    "println() \n",
    "a = 0\n",
    "while a < 5\n",
    "    print(a, \" \")\n",
    "    a+=1\n",
    "end"
   ]
  }
 ],
 "metadata": {
  "kernelspec": {
   "display_name": "Julia 1.8.1",
   "language": "julia",
   "name": "julia-1.8"
  },
  "language_info": {
   "file_extension": ".jl",
   "mimetype": "application/julia",
   "name": "julia",
   "version": "1.8.1"
  },
  "orig_nbformat": 4,
  "vscode": {
   "interpreter": {
    "hash": "c87afb1b8aa3ce47ffab5c38e6e395088d09aeccb9c5f5a7062dac7e2d1103a6"
   }
  }
 },
 "nbformat": 4,
 "nbformat_minor": 2
}
