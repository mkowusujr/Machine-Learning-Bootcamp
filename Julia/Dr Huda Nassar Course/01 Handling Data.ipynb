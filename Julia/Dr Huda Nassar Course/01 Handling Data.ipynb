{
 "cells": [
  {
   "cell_type": "markdown",
   "metadata": {},
   "source": [
    "# Data\n",
    "Being able to easily load and process data is a crucial task that can make any data science more pleasant. In this notebook we will cover the most common types often encountred in data science tasks, and we will be using the data throughout the rest of the course."
   ]
  },
  {
   "cell_type": "code",
   "execution_count": null,
   "metadata": {},
   "outputs": [],
   "source": [
    "using DataFrames\n",
    "using DelimitedFiles\n",
    "using CSV\n",
    "using XLSX"
   ]
  },
  {
   "cell_type": "markdown",
   "metadata": {},
   "source": [
    "# 🗃️ Get Some Data"
   ]
  },
  {
   "cell_type": "markdown",
   "metadata": {},
   "source": [
    "In Julia, it's pretty easy to dowload a file from the web using the download function. But also, you can use your favorite command line commad to download files by easily switching from Julia via the `;` key.\n",
    "\n",
    "Note: `download` depends on external tools such as curl, wget or fetch. So you must have one of these."
   ]
  },
  {
   "cell_type": "code",
   "execution_count": null,
   "metadata": {},
   "outputs": [],
   "source": [
    "download(\"https://raw.githubusercontent.com/nassarhuda/easy_data/master/programming_languages.csv\",\n",
    "    \"Data/programming_languages.csv\")"
   ]
  },
  {
   "cell_type": "markdown",
   "metadata": {},
   "source": [
    "# 📂 Read your data from text files."
   ]
  },
  {
   "cell_type": "markdown",
   "metadata": {},
   "source": [
    "## Delimited Files"
   ]
  },
  {
   "cell_type": "markdown",
   "metadata": {},
   "source": [
    "Let's start with the package `DelimitedFiles` which is in the standard library."
   ]
  },
  {
   "cell_type": "code",
   "execution_count": null,
   "metadata": {},
   "outputs": [],
   "source": [
    "#=\n",
    "readdlm(source, \n",
    "    delim::AbstractChar, \n",
    "    T::Type, \n",
    "    eol::AbstractChar; \n",
    "    header=false, \n",
    "    skipstart=0, \n",
    "    skipblanks=true, \n",
    "    use_mmap, \n",
    "    quotes=true, \n",
    "    dims, \n",
    "    comments=false, \n",
    "    comment_char='#')\n",
    "=#\n",
    "P, H = readdlm(\"Data/programming_languages.csv\", ','; header=true)"
   ]
  },
  {
   "cell_type": "code",
   "execution_count": null,
   "metadata": {},
   "outputs": [],
   "source": [
    "P # the data as a matrix"
   ]
  },
  {
   "cell_type": "code",
   "execution_count": null,
   "metadata": {},
   "outputs": [],
   "source": [
    "H # The headers as a matrix"
   ]
  },
  {
   "cell_type": "code",
   "execution_count": null,
   "metadata": {},
   "outputs": [],
   "source": [
    "# Writing to a text file:\n",
    "writedlm(\"Created Data/programminglanguages_dlm.txt\", P, ';')"
   ]
  },
  {
   "cell_type": "markdown",
   "metadata": {},
   "source": [
    "## CSV Files"
   ]
  },
  {
   "cell_type": "markdown",
   "metadata": {},
   "source": [
    "A more powerful package to use here is the `CSV` package. By default, the CSV package imports the data to a DataFrame, which can have several advantages as we will see below.\n",
    "\n",
    "In general, `CSV.jl` is the recommended way to load CSVs in Julia. Only use DelimitedFiles when you have a more complicated file where you want to specify several things."
   ]
  },
  {
   "cell_type": "markdown",
   "metadata": {},
   "source": [
    "### Reading CSV Files"
   ]
  },
  {
   "cell_type": "code",
   "execution_count": null,
   "metadata": {},
   "outputs": [],
   "source": [
    "C = CSV.read(\"Data/programming_languages.csv\", DataFrame)"
   ]
  },
  {
   "cell_type": "code",
   "execution_count": null,
   "metadata": {},
   "outputs": [],
   "source": [
    "@show typeof(C)"
   ]
  },
  {
   "cell_type": "markdown",
   "metadata": {},
   "source": [
    "### Selecting Rows and Columns"
   ]
  },
  {
   "cell_type": "code",
   "execution_count": null,
   "metadata": {},
   "outputs": [],
   "source": [
    "# Selecting Columns\n",
    "C.year # Returns a vector populated by the values in the column\n",
    "C[!, :year] # Returns a vector populated by the values in the column\n",
    "C[:, :year] # Returns a vector populated by the values in the column"
   ]
  },
  {
   "cell_type": "code",
   "execution_count": null,
   "metadata": {},
   "outputs": [],
   "source": [
    "# Selecting Rows\n",
    "C[1:5, :] # Selecting mulitple columns returns a dataFrame"
   ]
  },
  {
   "cell_type": "code",
   "execution_count": null,
   "metadata": {},
   "outputs": [],
   "source": [
    "names(C) # Returns the column names"
   ]
  },
  {
   "cell_type": "code",
   "execution_count": null,
   "metadata": {},
   "outputs": [],
   "source": [
    "describe(C) # similar to pandas.info()"
   ]
  },
  {
   "cell_type": "markdown",
   "metadata": {},
   "source": [
    "## XLSX Files"
   ]
  },
  {
   "cell_type": "markdown",
   "metadata": {},
   "source": [
    "Another type of files that we may often need to read is XLSX files. Let's try to read a new file.\n",
    "\n",
    "For more documentation: https://felipenoris.github.io/XLSX.jl/stable/tutorial/"
   ]
  },
  {
   "cell_type": "markdown",
   "metadata": {},
   "source": [
    "### Reading XLSX"
   ]
  },
  {
   "cell_type": "markdown",
   "metadata": {},
   "source": [
    "The easiest way to get `XLSX.jl` to read data as a table for DataFrames to parse is to use the XLSX.readtable method instead of `XLSX.readdata`.\n",
    "\n",
    "`XLSX.readtable` automatically reads the first non-empty row in the file as column labels. It also skips empty columns at the left side of the worksheet automatically as well."
   ]
  },
  {
   "cell_type": "markdown",
   "metadata": {},
   "source": [
    "#### Recommended Way"
   ]
  },
  {
   "cell_type": "code",
   "execution_count": null,
   "metadata": {},
   "outputs": [],
   "source": [
    "# If you don't want to specify cell ranges... though this will take a little longer...\n",
    "G = XLSX.readtable(\"Data/zillow_data_download_april2020.xlsx\", \"Sale_counts_city\");"
   ]
  },
  {
   "cell_type": "code",
   "execution_count": null,
   "metadata": {},
   "outputs": [],
   "source": [
    "zillowdf = DataFrame(G) # Convert XLSX DataTable to DataFrame"
   ]
  },
  {
   "cell_type": "markdown",
   "metadata": {},
   "source": [
    "#### Other Way"
   ]
  },
  {
   "cell_type": "code",
   "execution_count": null,
   "metadata": {},
   "outputs": [],
   "source": [
    "# Read cells from XLSX and return matrix\n",
    "T = XLSX.readdata(\"Data/zillow_data_download_april2020.xlsx\", # file name\n",
    "    \"Sale_counts_city\", # sheet name\n",
    "    \"A1:F9\" # cell range\n",
    ")\n",
    "\n",
    "T = XLSX.readdata(\"Data/zillow_data_download_april2020.xlsx\", # file name\n",
    "    \"Sale_counts_city!A1:F9\" # sheet name and cell range\n",
    ")\n",
    "T"
   ]
  },
  {
   "cell_type": "markdown",
   "metadata": {},
   "source": [
    "If you insist on using `XLSX.readdata`, you will have to manually convert the first row to a vector of Strings:"
   ]
  },
  {
   "cell_type": "code",
   "execution_count": null,
   "metadata": {},
   "outputs": [],
   "source": [
    "zillowtdf = DataFrame(T[2:end,:],  convert(Vector{String}, T[1,:])) # Turn matrix into a dataframe"
   ]
  },
  {
   "cell_type": "markdown",
   "metadata": {},
   "source": [
    "# DataFrames"
   ]
  },
  {
   "cell_type": "markdown",
   "metadata": {},
   "source": [
    "## Creating DataFrames"
   ]
  },
  {
   "cell_type": "code",
   "execution_count": null,
   "metadata": {},
   "outputs": [],
   "source": [
    "foods = [\"apple\", \"cucumber\", \"tomato\", \"banana\"]\n",
    "calories = [105,47,22,105]\n",
    "prices = [0.85,1.6,0.8,0.6,]\n",
    "\n",
    "caloriesdf = DataFrame(item=foods, calories=calories)\n",
    "@show caloriesdf\n",
    "\n",
    "pricesdf = DataFrame(item=foods, prices=prices)\n",
    "@show pricesdf"
   ]
  },
  {
   "cell_type": "markdown",
   "metadata": {},
   "source": [
    "## Joins"
   ]
  },
  {
   "cell_type": "code",
   "execution_count": null,
   "metadata": {},
   "outputs": [],
   "source": [
    "fooddf = innerjoin(caloriesdf, pricesdf, on=:item)"
   ]
  },
  {
   "cell_type": "markdown",
   "metadata": {},
   "source": [
    "# 🔢 Time to process the data from Julia"
   ]
  },
  {
   "cell_type": "markdown",
   "metadata": {},
   "source": [
    "`.==`\n",
    "This is a Vectorized dot operation and is used to apply the operator to an array. This is check for equality"
   ]
  },
  {
   "cell_type": "code",
   "execution_count": null,
   "metadata": {},
   "outputs": [],
   "source": [
    "P"
   ]
  },
  {
   "cell_type": "markdown",
   "metadata": {},
   "source": [
    "Here are some quick questions we might want to ask about this simple data.\n",
    "+ Which year was was a given language invented?\n",
    "+ How many languages were created in a given year?"
   ]
  },
  {
   "cell_type": "markdown",
   "metadata": {},
   "source": [
    "## Processing Matrix"
   ]
  },
  {
   "cell_type": "code",
   "execution_count": null,
   "metadata": {},
   "outputs": [],
   "source": [
    "# Q1: Which year was was a given language invented?\n",
    "function yearcreated(language::String)\n",
    "    try\n",
    "        loc = findfirst(P[:, 2] .== language) # find col where lang == lang\n",
    "        return P[loc, 1]\n",
    "    catch\n",
    "        println(\"Error: Language not found in data\")\n",
    "    end\n",
    "end"
   ]
  },
  {
   "cell_type": "code",
   "execution_count": null,
   "metadata": {},
   "outputs": [],
   "source": [
    "yearcreated(\"Julia\")"
   ]
  },
  {
   "cell_type": "code",
   "execution_count": null,
   "metadata": {},
   "outputs": [],
   "source": [
    "yearcreated(\"Java\")"
   ]
  },
  {
   "cell_type": "code",
   "execution_count": null,
   "metadata": {},
   "outputs": [],
   "source": [
    "yearcreated(\"Type Script\")"
   ]
  },
  {
   "cell_type": "code",
   "execution_count": null,
   "metadata": {},
   "outputs": [],
   "source": [
    "# Q2: How many languages were created in a given year?\n",
    "function langcreatedinyear(year::Int64)\n",
    "    try\n",
    "        langs = findall(P[:, 1] .== year) # find cols where year == year\n",
    "        return length(langs)\n",
    "    catch\n",
    "        println(\"Error: year not found in data\")\n",
    "    end\n",
    "end"
   ]
  },
  {
   "cell_type": "code",
   "execution_count": null,
   "metadata": {},
   "outputs": [],
   "source": [
    "langcreatedinyear(1958)"
   ]
  },
  {
   "cell_type": "code",
   "execution_count": null,
   "metadata": {},
   "outputs": [],
   "source": [
    "langcreatedinyear(1962)"
   ]
  },
  {
   "cell_type": "code",
   "execution_count": null,
   "metadata": {},
   "outputs": [],
   "source": [
    "langcreatedinyear(1995)"
   ]
  },
  {
   "cell_type": "markdown",
   "metadata": {},
   "source": [
    "## Processing DataFrame"
   ]
  },
  {
   "cell_type": "code",
   "execution_count": null,
   "metadata": {},
   "outputs": [],
   "source": [
    "Pdf = DataFrame(year=P[:, 1], language=P[:, 2]) # Turning matrix to df"
   ]
  },
  {
   "cell_type": "code",
   "execution_count": null,
   "metadata": {},
   "outputs": [],
   "source": [
    "Pdf[1:5, :year]"
   ]
  },
  {
   "cell_type": "code",
   "execution_count": null,
   "metadata": {},
   "outputs": [],
   "source": [
    "# Q1: Which year was was a given language invented?\n",
    "function yearcreateddf(lang::String)\n",
    "    try\n",
    "        loc = findfirst(Pdf.language .== lang)\n",
    "        return Pdf.year[loc]\n",
    "    catch\n",
    "        println(\"Error: Language not found in data\")\n",
    "    end\n",
    "end"
   ]
  },
  {
   "cell_type": "code",
   "execution_count": null,
   "metadata": {},
   "outputs": [],
   "source": [
    "@show yearcreateddf(\"Ruby\")\n",
    "@show yearcreateddf(\"Kotlin\")\n",
    "@show yearcreateddf(\"F#\")\n",
    "@show yearcreateddf(\"Rust\")\n",
    "println()\n",
    "@show yearcreateddf(\"FakeLang\")"
   ]
  },
  {
   "cell_type": "code",
   "execution_count": null,
   "metadata": {},
   "outputs": [],
   "source": [
    "# Q2: How many languages were created in a given year?\n",
    "function langcreatedinyeardf(year::Int64)\n",
    "    return length(findall(Pdf.year.== year))\n",
    "end"
   ]
  },
  {
   "cell_type": "code",
   "execution_count": null,
   "metadata": {},
   "outputs": [],
   "source": [
    "@show langcreatedinyeardf(1958)\n",
    "@show langcreatedinyeardf(1962)\n",
    "@show langcreatedinyeardf(1995)\n",
    "@show langcreatedinyeardf(2020)"
   ]
  },
  {
   "cell_type": "markdown",
   "metadata": {},
   "source": [
    "## Processing Dictionaries"
   ]
  },
  {
   "cell_type": "code",
   "execution_count": null,
   "metadata": {},
   "outputs": [],
   "source": [
    "Dict([(\"A\", 1), (\"B\", 2), (1, [1, 2])]) # Making a dict"
   ]
  },
  {
   "cell_type": "code",
   "execution_count": null,
   "metadata": {},
   "outputs": [],
   "source": [
    "somedict = Dict{Integer, Vector{String}}() # Empty dict"
   ]
  },
  {
   "cell_type": "code",
   "execution_count": null,
   "metadata": {},
   "outputs": [],
   "source": [
    "# somedict[\"julia\"] = 7 # this is not going to work."
   ]
  },
  {
   "cell_type": "code",
   "execution_count": null,
   "metadata": {},
   "outputs": [],
   "source": [
    "somedict[1] = [\"Wow\", \"Yum\"]"
   ]
  },
  {
   "cell_type": "code",
   "execution_count": null,
   "metadata": {},
   "outputs": [],
   "source": [
    "Pdict = Dict(pairs(eachcol(Pdf))) # Turning dataframe into a dict"
   ]
  },
  {
   "cell_type": "code",
   "execution_count": null,
   "metadata": {},
   "outputs": [],
   "source": [
    "@show length(Pdict[:year])\n",
    "@show length(unique(Pdict[:year]))"
   ]
  },
  {
   "cell_type": "code",
   "execution_count": null,
   "metadata": {},
   "outputs": [],
   "source": [
    "Pdict[:year][1]"
   ]
  },
  {
   "cell_type": "code",
   "execution_count": null,
   "metadata": {},
   "outputs": [],
   "source": [
    "# Q1: Which year was was a given language invented?\n",
    "function yearcreateddict(lang::String)\n",
    "    try\n",
    "        loc = findfirst(Pdict[:language].==lang)\n",
    "        return Pdict[:year][loc]\n",
    "    catch\n",
    "        (\"Error: Language not found in data\")\n",
    "    end\n",
    "end"
   ]
  },
  {
   "cell_type": "code",
   "execution_count": null,
   "metadata": {},
   "outputs": [],
   "source": [
    "@show yearcreateddict(\"Ruby\")\n",
    "@show yearcreateddict(\"Kotlin\")\n",
    "@show yearcreateddict(\"F#\")\n",
    "@show yearcreateddict(\"Rust\")\n",
    "println()\n",
    "@show yearcreateddict(\"FakeLang\")"
   ]
  },
  {
   "cell_type": "code",
   "execution_count": null,
   "metadata": {},
   "outputs": [],
   "source": [
    "# Q2: How many languages were created in a given year?\n",
    "function langcreatedinyeardict(year::Int64)\n",
    "    try\n",
    "        return length(findall(Pdict[:year].== year))\n",
    "    catch\n",
    "        (\"Error: Language not found in data\")\n",
    "    end\n",
    "end"
   ]
  },
  {
   "cell_type": "code",
   "execution_count": null,
   "metadata": {},
   "outputs": [],
   "source": [
    "@show langcreatedinyeardict(1958)\n",
    "@show langcreatedinyeardict(1962)\n",
    "@show langcreatedinyeardict(1995)\n",
    "@show langcreatedinyeardict(2020)"
   ]
  },
  {
   "cell_type": "markdown",
   "metadata": {},
   "source": [
    "# 📝 Missing data"
   ]
  },
  {
   "cell_type": "code",
   "execution_count": null,
   "metadata": {},
   "outputs": [],
   "source": [
    "Pdf[1, 1] = missing\n",
    "Pdf[3, 1] = missing\n",
    "Pdf[1:5, :]"
   ]
  },
  {
   "cell_type": "code",
   "execution_count": null,
   "metadata": {},
   "outputs": [],
   "source": [
    "dropmissing(Pdf) # Doesnt save automatically, must reassign dataframe to this func output"
   ]
  }
 ],
 "metadata": {
  "kernelspec": {
   "display_name": "Julia 1.8.1",
   "language": "julia",
   "name": "julia-1.8"
  },
  "language_info": {
   "file_extension": ".jl",
   "mimetype": "application/julia",
   "name": "julia",
   "version": "1.8.1"
  },
  "orig_nbformat": 4
 },
 "nbformat": 4,
 "nbformat_minor": 2
}
