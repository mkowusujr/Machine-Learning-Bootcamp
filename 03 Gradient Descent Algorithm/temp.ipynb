{
 "cells": [
  {
   "cell_type": "markdown",
   "metadata": {},
   "source": [
    "# How the Machine Learns\n",
    "## The Algorithm\n",
    "1. We start of by making a **prediction** that is completely random.\n",
    "2. Then **calculate the error**, this is where we measure how good our prediction was\n",
    "3. Lastly, learaning step, where we adjust our parameters so we have a smaller error next turn around our initial prediction and **learn from our mistakes**\n",
    "4. Repeat step 1 with our new modified parameters that we found by changing our old ones based on how far off they were\n",
    "5. We keep repeating steps 1-4 until we our satified\n",
    "\n",
    "\n"
   ]
  },
  {
   "cell_type": "markdown",
   "metadata": {},
   "source": [
    "# Cost Functions and Loss Functions\n",
    "Loss and cost functions are methods of measuring the error in machine learning predictions.\n",
    "\n",
    "![example](loss-vs-cost.png)\n",
    "\n",
    "## Loss Functions\n",
    "Loss functions measure the error per observation, whilst cost functions measure the error over all observations.\n",
    "\n",
    "A **Lost Function** is a function that assiociates a cost with a decision. It measures the error between a single prediction and the corresponding actual value\n",
    ">  Loss functions are used to determine the error (aka “the loss”) between the output of our algorithms and the given target value.\n",
    "> In layman’s terms, the loss function expresses how far off the mark our computed output is. \n",
    "\n",
    "### Well known Loss Functions\n",
    "`l1_loss = abs(actual - prediction`  \n",
    "`l2_loss = (actual - prediction) ** 2`\n",
    "\n",
    "## Cost Functions\n",
    "A **Cost Function** is a function which measures the error between predictions and their actual values across the whole dataset. To do this it aggregates the loss values that are calculated per observation.\n",
    "\n",
    "Loss functions are used in regression when finding a line of best fit by minimizing the overall loss of all the points with the prediction from the line.\n",
    "\n",
    "### Well Known Cost Functions\n",
    "Mean Square Error or mse: $MSE = \\frac{1}{n} \\sum(y - \\hat y)^2$  \n",
    "Mean Absolute Error or mae: $\\frac{1}{n} \\sum|yi - xi|$\n",
    "In MAE xi is the observed value in the $i^{th}$ observation and yi is the predicted value for the $i^{th}$ observation."
   ]
  },
  {
   "cell_type": "markdown",
   "metadata": {},
   "source": [
    "# Gradients Descent\n"
   ]
  }
 ],
 "metadata": {
  "kernelspec": {
   "display_name": "Python 3.9.7 64-bit",
   "language": "python",
   "name": "python3"
  },
  "language_info": {
   "name": "python",
   "version": "3.9.7"
  },
  "orig_nbformat": 4,
  "vscode": {
   "interpreter": {
    "hash": "11938c6bc6919ae2720b4d5011047913343b08a43b18698fd82dedb0d4417594"
   }
  }
 },
 "nbformat": 4,
 "nbformat_minor": 2
}
